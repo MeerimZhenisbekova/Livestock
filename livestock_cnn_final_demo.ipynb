{
 "cells": [
  {
   "cell_type": "markdown",
   "id": "ee641d50",
   "metadata": {},
   "source": [
    "# 🐄 Livestock Species Classification using CNN Simulation\n",
    "\n",
    "This notebook simulates the classification of cattle and sheep using deep learning models (ResNet, VGG, AlexNet). It includes synthetic data, simulated predictions, model evaluation, and cross-validation."
   ]
  },
  {
   "cell_type": "markdown",
   "id": "c6d68701",
   "metadata": {},
   "source": [
    "## 📦 Step 1: Data Preparation\n",
    "We simulate a dataset of 500 livestock samples with attributes such as species label, model predictions, lighting condition, and occlusion level."
   ]
  },
  {
   "cell_type": "code",
   "execution_count": null,
   "id": "3aa9e325",
   "metadata": {},
   "outputs": [],
   "source": [
    "\n",
    "import pandas as pd\n",
    "import numpy as np\n",
    "\n",
    "# Simulate dataset\n",
    "np.random.seed(42)\n",
    "n_samples = 500\n",
    "df = pd.DataFrame({\n",
    "    'Image_ID': [f'img_{i}' for i in range(n_samples)],\n",
    "    'True_Label': np.random.choice(['Cattle', 'Sheep'], size=n_samples),\n",
    "    'Predicted_Label_ResNet': np.random.choice(['Cattle', 'Sheep'], size=n_samples, p=[0.75, 0.25]),\n",
    "    'Predicted_Label_VGG': np.random.choice(['Cattle', 'Sheep'], size=n_samples, p=[0.7, 0.3]),\n",
    "    'Predicted_Label_AlexNet': np.random.choice(['Cattle', 'Sheep'], size=n_samples, p=[0.65, 0.35]),\n",
    "    'Lighting_Condition': np.random.choice(['Bright', 'Dim', 'Overcast'], size=n_samples),\n",
    "    'Occlusion_Level': np.random.choice(['Low', 'Medium', 'High'], size=n_samples),\n",
    "})\n",
    "df.head()\n"
   ]
  },
  {
   "cell_type": "markdown",
   "id": "6a28a3cf",
   "metadata": {},
   "source": [
    "## 📈 Step 2: Accuracy Evaluation and Confusion Matrix"
   ]
  },
  {
   "cell_type": "code",
   "execution_count": null,
   "id": "647b7414",
   "metadata": {},
   "outputs": [],
   "source": [
    "\n",
    "from sklearn.metrics import accuracy_score, confusion_matrix\n",
    "\n",
    "acc_resnet = accuracy_score(df['True_Label'], df['Predicted_Label_ResNet'])\n",
    "acc_vgg = accuracy_score(df['True_Label'], df['Predicted_Label_VGG'])\n",
    "acc_alexnet = accuracy_score(df['True_Label'], df['Predicted_Label_AlexNet'])\n",
    "\n",
    "conf_matrix = confusion_matrix(df['True_Label'], df['Predicted_Label_ResNet'], labels=['Cattle', 'Sheep'])\n",
    "\n",
    "print(f\"ResNet Accuracy: {acc_resnet:.2f}\")\n",
    "print(f\"VGG Accuracy: {acc_vgg:.2f}\")\n",
    "print(f\"AlexNet Accuracy: {acc_alexnet:.2f}\")\n",
    "conf_matrix\n"
   ]
  },
  {
   "cell_type": "markdown",
   "id": "9fee2109",
   "metadata": {},
   "source": [
    "## 📉 Step 3: Simulated Training Loss and Accuracy Graph"
   ]
  },
  {
   "cell_type": "code",
   "execution_count": null,
   "id": "b0982903",
   "metadata": {},
   "outputs": [],
   "source": [
    "\n",
    "import matplotlib.pyplot as plt\n",
    "\n",
    "epochs = range(1, 21)\n",
    "loss_vgg = np.linspace(1.0, 0.3, 20) + np.random.normal(0, 0.05, 20)\n",
    "acc_vgg = np.linspace(0.5, 0.85, 20) + np.random.normal(0, 0.02, 20)\n",
    "\n",
    "plt.figure(figsize=(12,5))\n",
    "\n",
    "plt.subplot(1,2,1)\n",
    "plt.plot(epochs, loss_vgg, marker='o')\n",
    "plt.title('Simulated Training Loss (VGG)')\n",
    "plt.xlabel('Epoch')\n",
    "plt.ylabel('Loss')\n",
    "\n",
    "plt.subplot(1,2,2)\n",
    "plt.plot(epochs, acc_vgg, marker='o', color='green')\n",
    "plt.title('Simulated Training Accuracy (VGG)')\n",
    "plt.xlabel('Epoch')\n",
    "plt.ylabel('Accuracy')\n",
    "\n",
    "plt.tight_layout()\n",
    "plt.show()\n"
   ]
  },
  {
   "cell_type": "markdown",
   "id": "7c7f6eea",
   "metadata": {},
   "source": [
    "## 🔁 Step 4: 5-Fold Cross-Validation (Simulated Accuracy)\n",
    "We perform stratified 5-fold CV using model predictions."
   ]
  },
  {
   "cell_type": "code",
   "execution_count": null,
   "id": "8b5f8b13",
   "metadata": {},
   "outputs": [],
   "source": [
    "\n",
    "from sklearn.model_selection import StratifiedKFold\n",
    "\n",
    "def simulate_cv_accuracy(y_true, y_pred_model):\n",
    "    skf = StratifiedKFold(n_splits=5, shuffle=True, random_state=42)\n",
    "    scores = []\n",
    "    for train_idx, test_idx in skf.split(y_pred_model, y_true):\n",
    "        y_test = np.array(y_true)[test_idx]\n",
    "        y_pred = np.array(y_pred_model)[test_idx]\n",
    "        scores.append(accuracy_score(y_test, y_pred))\n",
    "    return scores\n",
    "\n",
    "cv_resnet = simulate_cv_accuracy(df['True_Label'], df['Predicted_Label_ResNet'])\n",
    "cv_vgg = simulate_cv_accuracy(df['True_Label'], df['Predicted_Label_VGG'])\n",
    "cv_alexnet = simulate_cv_accuracy(df['True_Label'], df['Predicted_Label_AlexNet'])\n",
    "\n",
    "print(\"ResNet CV Accuracy:\", np.round(cv_resnet, 3))\n",
    "print(\"VGG CV Accuracy:\", np.round(cv_vgg, 3))\n",
    "print(\"AlexNet CV Accuracy:\", np.round(cv_alexnet, 3))\n"
   ]
  },
  {
   "cell_type": "markdown",
   "id": "35f6d2aa",
   "metadata": {},
   "source": [
    "## ✅ Step 5: Summary of Findings"
   ]
  },
  {
   "cell_type": "code",
   "execution_count": null,
   "id": "e1d72dd0",
   "metadata": {},
   "outputs": [],
   "source": [
    "\n",
    "summary = pd.DataFrame({\n",
    "    'Model': ['ResNet', 'VGG', 'AlexNet'],\n",
    "    'Mean CV Accuracy': [np.mean(cv_resnet), np.mean(cv_vgg), np.mean(cv_alexnet)],\n",
    "    'Initial Accuracy': [acc_resnet, acc_vgg, acc_alexnet]\n",
    "})\n",
    "summary\n"
   ]
  }
 ],
 "metadata": {},
 "nbformat": 4,
 "nbformat_minor": 5
}